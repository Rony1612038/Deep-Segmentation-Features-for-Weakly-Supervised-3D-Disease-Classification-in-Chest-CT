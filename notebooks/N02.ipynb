{
 "cells": [
  {
   "cell_type": "code",
   "execution_count": 77,
   "metadata": {},
   "outputs": [],
   "source": [
    "from __future__ import unicode_literals\n",
    "from __future__ import print_function\n",
    "from __future__ import division\n",
    "from __future__ import absolute_import\n",
    "import os\n",
    "import SimpleITK as sitk\n",
    "from dltk.io.preprocessing import whitening\n",
    "import pandas as pd\n",
    "import numpy as np\n",
    "from PIL import Image\n",
    "import scipy.misc as sci\n",
    "from operator import itemgetter\n",
    "from numpy import array, newaxis, expand_dims"
   ]
  },
  {
   "cell_type": "code",
   "execution_count": 78,
   "metadata": {},
   "outputs": [
    {
     "data": {
      "text/plain": [
       "'10106_6_niftynet_out'"
      ]
     },
     "execution_count": 78,
     "metadata": {},
     "output_type": "execute_result"
    }
   ],
   "source": [
    "img_fn     = '10106_6_niftynet_out.nii.gz'\n",
    "subject_id = img_fn.split('/')[-1].split('.')[0]\n",
    "subject_id"
   ]
  },
  {
   "cell_type": "code",
   "execution_count": 79,
   "metadata": {},
   "outputs": [],
   "source": [
    "file_reader = sitk.ImageFileReader()\n",
    "file_reader = sitk.ImageFileReader()\n",
    "file_reader.SetFileName(img_fn)\n",
    "file_reader.ReadImageInformation()\n",
    "image_size = list(file_reader.GetSize())\n",
    "img_size = image_size"
   ]
  },
  {
   "cell_type": "code",
   "execution_count": 80,
   "metadata": {},
   "outputs": [],
   "source": [
    "file_reader.SetExtractSize([0 if v == 1 else v for v in img_size])\n",
    "img = file_reader.Execute()\n",
    "out =  sitk.Compose( [sitk.Extract(img, img.GetSize()[:3]+(0,), [0,0,0, i]) for i in range(img_size[-1])] )\n",
    "out = sitk.GetArrayFromImage(out)"
   ]
  },
  {
   "cell_type": "code",
   "execution_count": 81,
   "metadata": {},
   "outputs": [
    {
     "data": {
      "text/plain": [
       "(164, 228, 228)"
      ]
     },
     "execution_count": 81,
     "metadata": {},
     "output_type": "execute_result"
    }
   ],
   "source": [
    "outout = out[:,:,:,2]+out[:,:,:,3]\n",
    "outout.shape"
   ]
  },
  {
   "cell_type": "code",
   "execution_count": 82,
   "metadata": {},
   "outputs": [],
   "source": [
    "outout = sitk.GetImageFromArray(outout)\n",
    "writer = sitk.ImageFileWriter()\n",
    "writer.SetFileName('_{}.nii.gz'.format(subject_id))\n",
    "writer.Execute(outout)"
   ]
  },
  {
   "cell_type": "code",
   "execution_count": null,
   "metadata": {},
   "outputs": [],
   "source": []
  }
 ],
 "metadata": {
  "kernelspec": {
   "display_name": "Python (tensorflow-RAI)",
   "language": "python",
   "name": "tensorflow-rai"
  },
  "language_info": {
   "codemirror_mode": {
    "name": "ipython",
    "version": 3
   },
   "file_extension": ".py",
   "mimetype": "text/x-python",
   "name": "python",
   "nbconvert_exporter": "python",
   "pygments_lexer": "ipython3",
   "version": "3.5.6"
  }
 },
 "nbformat": 4,
 "nbformat_minor": 2
}
